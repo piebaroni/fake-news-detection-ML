{
 "cells": [
  {
   "cell_type": "code",
   "execution_count": 1,
   "id": "e608b207",
   "metadata": {},
   "outputs": [],
   "source": [
    "#Il dataset viene da https://data-flair.training/blogs/advanced-python-project-detecting-fake-news/\n",
    "import numpy as np\n",
    "import pandas as pd\n",
    "import matplotlib.pyplot as plt\n",
    "import itertools\n",
    "from sklearn.model_selection import train_test_split\n",
    "from sklearn.feature_extraction.text import TfidfVectorizer\n",
    "from sklearn.metrics import accuracy_score, confusion_matrix"
   ]
  },
  {
   "cell_type": "code",
   "execution_count": 3,
   "id": "2b062397",
   "metadata": {},
   "outputs": [
    {
     "data": {
      "text/html": [
       "<div>\n",
       "<style scoped>\n",
       "    .dataframe tbody tr th:only-of-type {\n",
       "        vertical-align: middle;\n",
       "    }\n",
       "\n",
       "    .dataframe tbody tr th {\n",
       "        vertical-align: top;\n",
       "    }\n",
       "\n",
       "    .dataframe thead th {\n",
       "        text-align: right;\n",
       "    }\n",
       "</style>\n",
       "<table border=\"1\" class=\"dataframe\">\n",
       "  <thead>\n",
       "    <tr style=\"text-align: right;\">\n",
       "      <th></th>\n",
       "      <th>Unnamed: 0</th>\n",
       "      <th>title</th>\n",
       "      <th>text</th>\n",
       "      <th>label</th>\n",
       "    </tr>\n",
       "  </thead>\n",
       "  <tbody>\n",
       "    <tr>\n",
       "      <th>0</th>\n",
       "      <td>8476</td>\n",
       "      <td>You Can Smell Hillary’s Fear</td>\n",
       "      <td>Daniel Greenfield, a Shillman Journalism Fello...</td>\n",
       "      <td>FAKE</td>\n",
       "    </tr>\n",
       "    <tr>\n",
       "      <th>1</th>\n",
       "      <td>10294</td>\n",
       "      <td>Watch The Exact Moment Paul Ryan Committed Pol...</td>\n",
       "      <td>Google Pinterest Digg Linkedin Reddit Stumbleu...</td>\n",
       "      <td>FAKE</td>\n",
       "    </tr>\n",
       "    <tr>\n",
       "      <th>2</th>\n",
       "      <td>3608</td>\n",
       "      <td>Kerry to go to Paris in gesture of sympathy</td>\n",
       "      <td>U.S. Secretary of State John F. Kerry said Mon...</td>\n",
       "      <td>REAL</td>\n",
       "    </tr>\n",
       "    <tr>\n",
       "      <th>3</th>\n",
       "      <td>10142</td>\n",
       "      <td>Bernie supporters on Twitter erupt in anger ag...</td>\n",
       "      <td>— Kaydee King (@KaydeeKing) November 9, 2016 T...</td>\n",
       "      <td>FAKE</td>\n",
       "    </tr>\n",
       "    <tr>\n",
       "      <th>4</th>\n",
       "      <td>875</td>\n",
       "      <td>The Battle of New York: Why This Primary Matters</td>\n",
       "      <td>It's primary day in New York and front-runners...</td>\n",
       "      <td>REAL</td>\n",
       "    </tr>\n",
       "  </tbody>\n",
       "</table>\n",
       "</div>"
      ],
      "text/plain": [
       "   Unnamed: 0                                              title  \\\n",
       "0        8476                       You Can Smell Hillary’s Fear   \n",
       "1       10294  Watch The Exact Moment Paul Ryan Committed Pol...   \n",
       "2        3608        Kerry to go to Paris in gesture of sympathy   \n",
       "3       10142  Bernie supporters on Twitter erupt in anger ag...   \n",
       "4         875   The Battle of New York: Why This Primary Matters   \n",
       "\n",
       "                                                text label  \n",
       "0  Daniel Greenfield, a Shillman Journalism Fello...  FAKE  \n",
       "1  Google Pinterest Digg Linkedin Reddit Stumbleu...  FAKE  \n",
       "2  U.S. Secretary of State John F. Kerry said Mon...  REAL  \n",
       "3  — Kaydee King (@KaydeeKing) November 9, 2016 T...  FAKE  \n",
       "4  It's primary day in New York and front-runners...  REAL  "
      ]
     },
     "execution_count": 3,
     "metadata": {},
     "output_type": "execute_result"
    }
   ],
   "source": [
    "#Leggo i dati\n",
    "df=pd.read_csv('C:\\\\news.csv')\n",
    "df.shape\n",
    "df.head()"
   ]
  },
  {
   "cell_type": "code",
   "execution_count": 4,
   "id": "908a91c6",
   "metadata": {},
   "outputs": [
    {
     "data": {
      "text/plain": [
       "0    FAKE\n",
       "1    FAKE\n",
       "2    REAL\n",
       "3    FAKE\n",
       "4    REAL\n",
       "Name: label, dtype: object"
      ]
     },
     "execution_count": 4,
     "metadata": {},
     "output_type": "execute_result"
    }
   ],
   "source": [
    "#Prendo le Labels\n",
    "labels=df.label\n",
    "labels.head()"
   ]
  },
  {
   "cell_type": "code",
   "execution_count": 5,
   "id": "1ec2622f",
   "metadata": {},
   "outputs": [],
   "source": [
    "#Divido il dataset\n",
    "x_train,x_test,y_train,y_test=train_test_split(df['text'], labels, test_size=0.2, random_state=7)"
   ]
  },
  {
   "cell_type": "code",
   "execution_count": 6,
   "id": "8a72b638",
   "metadata": {},
   "outputs": [],
   "source": [
    "#Iniziallizzo un TfidfVectorizer per estrarre le feature\n",
    "tfidf_vectorizer=TfidfVectorizer(stop_words='english', max_df=0.7)\n",
    "\n",
    "#Fit e transform il train set, transform il test set\n",
    "tfidf_train=tfidf_vectorizer.fit_transform(x_train) \n",
    "tfidf_test=tfidf_vectorizer.transform(x_test)"
   ]
  },
  {
   "cell_type": "markdown",
   "id": "c9b5cc39",
   "metadata": {},
   "source": [
    "## LOGISTIC REGRESSION "
   ]
  },
  {
   "cell_type": "code",
   "execution_count": 25,
   "id": "3f88d09b",
   "metadata": {},
   "outputs": [
    {
     "name": "stdout",
     "output_type": "stream",
     "text": [
      "Accuracy: 91.38%\n"
     ]
    }
   ],
   "source": [
    "from sklearn.model_selection import KFold\n",
    "from sklearn.model_selection import cross_val_score\n",
    "from sklearn.linear_model import LogisticRegression\n",
    "\n",
    "#Preparo una 5-fold cross-validation\n",
    "cv = KFold(n_splits=5, random_state=1, shuffle=True)\n",
    "#Inizializzo un Logistic Regression Classifier\n",
    "logreg_5 = LogisticRegression()\n",
    "#Risultati\n",
    "scores = cross_val_score(logreg_5, tfidf_train, y_train, scoring='accuracy', cv=cv, n_jobs=-1)\n",
    "print(f'Accuracy: {round(np.mean(scores*100), 2)}%')"
   ]
  },
  {
   "cell_type": "code",
   "execution_count": 26,
   "id": "3c87ef2a",
   "metadata": {},
   "outputs": [
    {
     "name": "stdout",
     "output_type": "stream",
     "text": [
      "Accuracy: 91.57%\n"
     ]
    }
   ],
   "source": [
    "#Preparo una 10-fold cross-validation\n",
    "cv = KFold(n_splits=10, random_state=1, shuffle=True)\n",
    "#Inizializzo un Logistic Regression Classifier\n",
    "logreg_10 = LogisticRegression()\n",
    "#Risultati\n",
    "scores = cross_val_score(logreg_10, tfidf_train, y_train, scoring='accuracy', cv=cv, n_jobs=-1)\n",
    "print(f'Accuracy: {round(np.mean(scores*100), 2)}%')"
   ]
  },
  {
   "cell_type": "markdown",
   "id": "9fc6b5b7",
   "metadata": {},
   "source": [
    "## DECISION TREE CLASSIFIER"
   ]
  },
  {
   "cell_type": "code",
   "execution_count": 27,
   "id": "851d3664",
   "metadata": {},
   "outputs": [
    {
     "name": "stdout",
     "output_type": "stream",
     "text": [
      "Accuracy: 81.83%\n"
     ]
    }
   ],
   "source": [
    "from sklearn.tree import DecisionTreeClassifier\n",
    "\n",
    "#Preparo una 5-fold cross-validation\n",
    "cv = KFold(n_splits=5, random_state=1, shuffle=True)\n",
    "#Inizializzo un Decision Tree Classifier\n",
    "tree_5 = DecisionTreeClassifier(random_state=0)\n",
    "#Risultati\n",
    "scores = cross_val_score(tree_5, tfidf_train, y_train, scoring='accuracy', cv=cv, n_jobs=-1)\n",
    "print(f'Accuracy: {round(np.mean(scores*100), 2)}%')"
   ]
  },
  {
   "cell_type": "code",
   "execution_count": 31,
   "id": "df6da2c1",
   "metadata": {},
   "outputs": [
    {
     "name": "stdout",
     "output_type": "stream",
     "text": [
      "Accuracy: 81.06%\n"
     ]
    }
   ],
   "source": [
    "#Preparo una 10-fold cross-validation\n",
    "cv = KFold(n_splits=10, random_state=1, shuffle=True)\n",
    "#Inizializzo un Decision Tree Classifier\n",
    "tree_10 = DecisionTreeClassifier(random_state=0)\n",
    "#Risultati\n",
    "scores = cross_val_score(tree_10, tfidf_train, y_train, scoring='accuracy', cv=cv, n_jobs=-1)\n",
    "print(f'Accuracy: {round(np.mean(scores*100), 2)}%')"
   ]
  },
  {
   "cell_type": "markdown",
   "id": "9e96fc4a",
   "metadata": {},
   "source": [
    "## SVM "
   ]
  },
  {
   "cell_type": "code",
   "execution_count": 32,
   "id": "b25220f1",
   "metadata": {},
   "outputs": [
    {
     "name": "stdout",
     "output_type": "stream",
     "text": [
      "Accuracy: 92.44%\n"
     ]
    }
   ],
   "source": [
    "from sklearn import svm\n",
    "from sklearn.svm import SVC\n",
    "\n",
    "#Preparo una 5-fold cross-validation\n",
    "cv = KFold(n_splits=5, random_state=1, shuffle=True)\n",
    "#Inizializzo una SVM\n",
    "svm_5 = SVC()\n",
    "#Risultati\n",
    "scores = cross_val_score(svm_5, tfidf_train, y_train, scoring='accuracy', cv=cv, n_jobs=-1)\n",
    "print(f'Accuracy: {round(np.mean(scores*100), 2)}%')"
   ]
  },
  {
   "cell_type": "code",
   "execution_count": 33,
   "id": "d01b84e7",
   "metadata": {},
   "outputs": [
    {
     "name": "stdout",
     "output_type": "stream",
     "text": [
      "Accuracy: 92.76%\n"
     ]
    }
   ],
   "source": [
    "#Preparo una 10-fold cross-validation\n",
    "cv = KFold(n_splits=10, random_state=1, shuffle=True)\n",
    "#Inizializzo una SVM\n",
    "svm_10 = SVC()\n",
    "#Risultati\n",
    "scores = cross_val_score(svm_10, tfidf_train, y_train, scoring='accuracy', cv=cv, n_jobs=-1)\n",
    "print(f'Accuracy: {round(np.mean(scores*100), 2)}%')"
   ]
  },
  {
   "cell_type": "markdown",
   "id": "7b73800e",
   "metadata": {},
   "source": [
    "## NAIVE BAYES CLASSIFIER "
   ]
  },
  {
   "cell_type": "code",
   "execution_count": 34,
   "id": "1740610a",
   "metadata": {},
   "outputs": [
    {
     "name": "stdout",
     "output_type": "stream",
     "text": [
      "Accuracy: 82.0%\n"
     ]
    }
   ],
   "source": [
    "from sklearn.naive_bayes import MultinomialNB\n",
    "\n",
    "#Preparo una 5-fold cross-validation\n",
    "cv = KFold(n_splits=5, random_state=1, shuffle=True)\n",
    "#Inizializzo un Naive Bayes Classifier\n",
    "nbc_5 = MultinomialNB()\n",
    "#Risultati\n",
    "scores = cross_val_score(nbc_5, tfidf_train, y_train, scoring='accuracy', cv=cv, n_jobs=-1)\n",
    "print(f'Accuracy: {round(np.mean(scores*100), 2)}%')"
   ]
  },
  {
   "cell_type": "code",
   "execution_count": 35,
   "id": "c0a09b98",
   "metadata": {},
   "outputs": [
    {
     "name": "stdout",
     "output_type": "stream",
     "text": [
      "Accuracy: 82.99%\n"
     ]
    }
   ],
   "source": [
    "#Preparo una 10-fold cross-validation\n",
    "cv = KFold(n_splits=10, random_state=1, shuffle=True)\n",
    "#Inizializzo un Naive Bayes Classifier\n",
    "nbc_10 = MultinomialNB()\n",
    "#Risultati\n",
    "scores = cross_val_score(nbc_10, tfidf_train, y_train, scoring='accuracy', cv=cv, n_jobs=-1)\n",
    "print(f'Accuracy: {round(np.mean(scores*100), 2)}%')"
   ]
  },
  {
   "cell_type": "code",
   "execution_count": null,
   "id": "aab7a063",
   "metadata": {},
   "outputs": [],
   "source": []
  }
 ],
 "metadata": {
  "kernelspec": {
   "display_name": "Python 3",
   "language": "python",
   "name": "python3"
  },
  "language_info": {
   "codemirror_mode": {
    "name": "ipython",
    "version": 3
   },
   "file_extension": ".py",
   "mimetype": "text/x-python",
   "name": "python",
   "nbconvert_exporter": "python",
   "pygments_lexer": "ipython3",
   "version": "3.8.8"
  }
 },
 "nbformat": 4,
 "nbformat_minor": 5
}
