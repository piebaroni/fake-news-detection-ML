{
 "cells": [
  {
   "cell_type": "code",
   "execution_count": 44,
   "id": "04fcd473",
   "metadata": {},
   "outputs": [],
   "source": [
    "import pandas as pd\n",
    "import nltk\n",
    "from nltk.corpus import stopwords\n",
    "from collections import Counter"
   ]
  },
  {
   "cell_type": "code",
   "execution_count": 47,
   "id": "6a3aa2e3",
   "metadata": {},
   "outputs": [],
   "source": [
    "df=pd.read_csv('C:\\\\news.csv')"
   ]
  },
  {
   "cell_type": "code",
   "execution_count": 17,
   "id": "77dbb215",
   "metadata": {},
   "outputs": [
    {
     "data": {
      "text/html": [
       "<div>\n",
       "<style scoped>\n",
       "    .dataframe tbody tr th:only-of-type {\n",
       "        vertical-align: middle;\n",
       "    }\n",
       "\n",
       "    .dataframe tbody tr th {\n",
       "        vertical-align: top;\n",
       "    }\n",
       "\n",
       "    .dataframe thead th {\n",
       "        text-align: right;\n",
       "    }\n",
       "</style>\n",
       "<table border=\"1\" class=\"dataframe\">\n",
       "  <thead>\n",
       "    <tr style=\"text-align: right;\">\n",
       "      <th></th>\n",
       "      <th>Unnamed: 0</th>\n",
       "      <th>title</th>\n",
       "      <th>text</th>\n",
       "      <th>label</th>\n",
       "    </tr>\n",
       "  </thead>\n",
       "  <tbody>\n",
       "    <tr>\n",
       "      <th>0</th>\n",
       "      <td>8476</td>\n",
       "      <td>You Can Smell Hillary’s Fear</td>\n",
       "      <td>Daniel Greenfield, a Shillman Journalism Fello...</td>\n",
       "      <td>FAKE</td>\n",
       "    </tr>\n",
       "    <tr>\n",
       "      <th>1</th>\n",
       "      <td>10294</td>\n",
       "      <td>Watch The Exact Moment Paul Ryan Committed Pol...</td>\n",
       "      <td>Google Pinterest Digg Linkedin Reddit Stumbleu...</td>\n",
       "      <td>FAKE</td>\n",
       "    </tr>\n",
       "    <tr>\n",
       "      <th>2</th>\n",
       "      <td>3608</td>\n",
       "      <td>Kerry to go to Paris in gesture of sympathy</td>\n",
       "      <td>U.S. Secretary of State John F. Kerry said Mon...</td>\n",
       "      <td>REAL</td>\n",
       "    </tr>\n",
       "    <tr>\n",
       "      <th>3</th>\n",
       "      <td>10142</td>\n",
       "      <td>Bernie supporters on Twitter erupt in anger ag...</td>\n",
       "      <td>— Kaydee King (@KaydeeKing) November 9, 2016 T...</td>\n",
       "      <td>FAKE</td>\n",
       "    </tr>\n",
       "    <tr>\n",
       "      <th>4</th>\n",
       "      <td>875</td>\n",
       "      <td>The Battle of New York: Why This Primary Matters</td>\n",
       "      <td>It's primary day in New York and front-runners...</td>\n",
       "      <td>REAL</td>\n",
       "    </tr>\n",
       "  </tbody>\n",
       "</table>\n",
       "</div>"
      ],
      "text/plain": [
       "   Unnamed: 0                                              title  \\\n",
       "0        8476                       You Can Smell Hillary’s Fear   \n",
       "1       10294  Watch The Exact Moment Paul Ryan Committed Pol...   \n",
       "2        3608        Kerry to go to Paris in gesture of sympathy   \n",
       "3       10142  Bernie supporters on Twitter erupt in anger ag...   \n",
       "4         875   The Battle of New York: Why This Primary Matters   \n",
       "\n",
       "                                                text label  \n",
       "0  Daniel Greenfield, a Shillman Journalism Fello...  FAKE  \n",
       "1  Google Pinterest Digg Linkedin Reddit Stumbleu...  FAKE  \n",
       "2  U.S. Secretary of State John F. Kerry said Mon...  REAL  \n",
       "3  — Kaydee King (@KaydeeKing) November 9, 2016 T...  FAKE  \n",
       "4  It's primary day in New York and front-runners...  REAL  "
      ]
     },
     "execution_count": 17,
     "metadata": {},
     "output_type": "execute_result"
    }
   ],
   "source": [
    "df.head()"
   ]
  },
  {
   "cell_type": "code",
   "execution_count": 18,
   "id": "73168b25",
   "metadata": {},
   "outputs": [
    {
     "name": "stdout",
     "output_type": "stream",
     "text": [
      "<class 'pandas.core.frame.DataFrame'>\n",
      "RangeIndex: 6335 entries, 0 to 6334\n",
      "Data columns (total 4 columns):\n",
      " #   Column      Non-Null Count  Dtype \n",
      "---  ------      --------------  ----- \n",
      " 0   Unnamed: 0  6335 non-null   int64 \n",
      " 1   title       6335 non-null   object\n",
      " 2   text        6335 non-null   object\n",
      " 3   label       6335 non-null   object\n",
      "dtypes: int64(1), object(3)\n",
      "memory usage: 198.1+ KB\n"
     ]
    }
   ],
   "source": [
    "df.info()"
   ]
  },
  {
   "cell_type": "code",
   "execution_count": 19,
   "id": "69e8773f",
   "metadata": {},
   "outputs": [
    {
     "data": {
      "text/plain": [
       "REAL    0.500552\n",
       "FAKE    0.499448\n",
       "Name: label, dtype: float64"
      ]
     },
     "execution_count": 19,
     "metadata": {},
     "output_type": "execute_result"
    }
   ],
   "source": [
    "df[\"label\"].value_counts(normalize = True)"
   ]
  },
  {
   "cell_type": "code",
   "execution_count": 20,
   "id": "24034470",
   "metadata": {},
   "outputs": [],
   "source": [
    "def concat_all_sentences(sents):\n",
    "    all_tokens = ''\n",
    "    for text in sents:\n",
    "        tx = str(text).lower().strip()\n",
    "        tx = tx.replace('\\n',' ')\n",
    "        tx = tx.replace('&amp',' ')\n",
    "        tx = tx.replace('#','')\n",
    "        tx = tx.replace('-','')\n",
    "        tx = tx.replace(';','')\n",
    "        tx = \" \".join(tx.split())\n",
    "        all_tokens += tx + \" \"\n",
    "    return all_tokens"
   ]
  },
  {
   "cell_type": "code",
   "execution_count": 33,
   "id": "0718e641",
   "metadata": {},
   "outputs": [],
   "source": [
    "fake_tokens = concat_all_sentences(df[df['label']=='FAKE']['title'])\n",
    "real_tokens = concat_all_sentences(df[df['label']=='REAL']['title'])"
   ]
  },
  {
   "cell_type": "code",
   "execution_count": 34,
   "id": "11d81963",
   "metadata": {},
   "outputs": [],
   "source": [
    "stopwords_en = set(stopwords.words('english'))"
   ]
  },
  {
   "cell_type": "code",
   "execution_count": 35,
   "id": "297a0d1d",
   "metadata": {},
   "outputs": [],
   "source": [
    "fake_tokens_words = [w for w in fake_tokens.split() if w not in stopwords_en]\n",
    "real_tokens_words = [w for w in real_tokens.split() if w not in stopwords_en]"
   ]
  },
  {
   "cell_type": "code",
   "execution_count": 36,
   "id": "7779d356",
   "metadata": {},
   "outputs": [
    {
     "data": {
      "text/plain": [
       "[('trump', 361),\n",
       " ('hillary', 327),\n",
       " ('clinton', 265),\n",
       " ('–', 171),\n",
       " ('election', 141),\n",
       " ('new', 137),\n",
       " ('us', 136),\n",
       " ('fbi', 109),\n",
       " ('comment', 105),\n",
       " ('russia', 94),\n",
       " ('|', 93),\n",
       " ('news', 91),\n",
       " ('war', 89),\n",
       " ('&', 82),\n",
       " ('donald', 80),\n",
       " ('world', 79),\n",
       " ('emails', 57),\n",
       " ('campaign', 56),\n",
       " ('america', 55),\n",
       " ('u.s.', 55)]"
      ]
     },
     "execution_count": 36,
     "metadata": {},
     "output_type": "execute_result"
    }
   ],
   "source": [
    "Counter(fake_tokens_words).most_common(20)"
   ]
  },
  {
   "cell_type": "code",
   "execution_count": 37,
   "id": "c2800a5f",
   "metadata": {},
   "outputs": [
    {
     "data": {
      "text/plain": [
       "[('trump', 433),\n",
       " ('clinton', 285),\n",
       " ('gop', 213),\n",
       " ('obama', 193),\n",
       " ('donald', 185),\n",
       " ('hillary', 168),\n",
       " ('new', 136),\n",
       " ('debate', 124),\n",
       " ('2016', 114),\n",
       " ('house', 110),\n",
       " ('says', 100),\n",
       " ('sanders', 97),\n",
       " ('campaign', 90),\n",
       " ('iran', 85),\n",
       " ('cruz', 85),\n",
       " ('white', 83),\n",
       " ('republicans', 82),\n",
       " ('state', 81),\n",
       " ('deal', 75),\n",
       " ('us', 74)]"
      ]
     },
     "execution_count": 37,
     "metadata": {},
     "output_type": "execute_result"
    }
   ],
   "source": [
    "Counter(real_tokens_words).most_common(20)"
   ]
  }
 ],
 "metadata": {
  "kernelspec": {
   "display_name": "Python 3",
   "language": "python",
   "name": "python3"
  },
  "language_info": {
   "codemirror_mode": {
    "name": "ipython",
    "version": 3
   },
   "file_extension": ".py",
   "mimetype": "text/x-python",
   "name": "python",
   "nbconvert_exporter": "python",
   "pygments_lexer": "ipython3",
   "version": "3.8.8"
  }
 },
 "nbformat": 4,
 "nbformat_minor": 5
}
